{
 "cells": [
  {
   "cell_type": "code",
   "execution_count": 1,
   "id": "4dff8fdb-6b23-4bfc-9d4d-6ab3a0beff57",
   "metadata": {},
   "outputs": [],
   "source": [
    "#11. Write a program to count the frequency of words appearing in a string."
   ]
  },
  {
   "cell_type": "code",
   "execution_count": 2,
   "id": "1a811c64-c953-470c-83bd-4a4bea5aae7a",
   "metadata": {},
   "outputs": [
    {
     "name": "stdout",
     "output_type": "stream",
     "text": [
      "{'My': 1, 'name': 1, 'is': 2, 'Aniket': 2, ',': 1, 'good': 1, 'boy,': 1, 'from': 1, 'the': 1, 'lucknow': 1}\n",
      "None\n"
     ]
    }
   ],
   "source": [
    "def countingfreq(strings):\n",
    "    x = strings.split()\n",
    "    d = {}\n",
    "    for i in x:\n",
    "        if i not in d.keys():\n",
    "            d[i] = 0\n",
    "        d[i] = d[i]+1\n",
    "    print(d)\n",
    "\n",
    "strings = 'My name is Aniket , Aniket is good boy, from  the lucknow'\n",
    "print(countingfreq(strings))"
   ]
  },
  {
   "cell_type": "code",
   "execution_count": 3,
   "id": "9b24ea22-b054-4702-bbe7-0c598085aa16",
   "metadata": {},
   "outputs": [],
   "source": [
    "## 14. Find out pairs with given sum value of an array¶\n",
    "## arr = [5,7,4,3,9,8,19,21] sum = 17"
   ]
  },
  {
   "cell_type": "code",
   "execution_count": 4,
   "id": "8694f0b4-a6cc-4f4d-a165-4d23c4c7f3c6",
   "metadata": {},
   "outputs": [
    {
     "name": "stdout",
     "output_type": "stream",
     "text": [
      "8 9\n",
      "None\n"
     ]
    }
   ],
   "source": [
    "def twoSums(arr,target):\n",
    "    arr.sort()\n",
    "    l = 0\n",
    "    r = len(arr)-1\n",
    "    while l<=r:\n",
    "        if arr[l]+arr[r]==target:\n",
    "            print(arr[l],arr[r])\n",
    "            l = l+1\n",
    "            r = r-1\n",
    "        elif arr[l]+arr[r]<target:\n",
    "            l = l+1\n",
    "        else:\n",
    "            r =r-1\n",
    "\n",
    "arr = [5,7,4,3,9,8,19,21]\n",
    "target = 17\n",
    "print(twoSums(arr,target))\n",
    "    "
   ]
  },
  {
   "cell_type": "code",
   "execution_count": 5,
   "id": "bbcd9342-d202-4c74-8144-ce7d74de6eeb",
   "metadata": {},
   "outputs": [
    {
     "name": "stdout",
     "output_type": "stream",
     "text": [
      "ANiket\n"
     ]
    }
   ],
   "source": [
    "print('ANiket')"
   ]
  },
  {
   "cell_type": "code",
   "execution_count": 6,
   "id": "1232c8ce-d35e-48e2-87e3-60deb51b2efd",
   "metadata": {},
   "outputs": [],
   "source": [
    "##1. Question: Write a function that takes a list of numbers and returns the sum."
   ]
  },
  {
   "cell_type": "code",
   "execution_count": 7,
   "id": "7fd1778d-6cd2-40f7-b723-51992dc5464b",
   "metadata": {},
   "outputs": [
    {
     "name": "stdout",
     "output_type": "stream",
     "text": [
      "150\n"
     ]
    }
   ],
   "source": [
    "def aniket(nums):\n",
    "    return sum(nums)\n",
    "nums = [10,20,30,40,50]\n",
    "print(aniket(nums))"
   ]
  },
  {
   "cell_type": "code",
   "execution_count": 8,
   "id": "a270eb70-6855-446d-acac-baac33237a8c",
   "metadata": {},
   "outputs": [
    {
     "name": "stdout",
     "output_type": "stream",
     "text": [
      "tekinA\n"
     ]
    }
   ],
   "source": [
    "##2. Question: How do you reverse a string in Python?\n",
    "def ani(arr):\n",
    "    return arr[::-1]\n",
    "\n",
    "arr = \"Aniket\"\n",
    "print(ani(arr))"
   ]
  },
  {
   "cell_type": "code",
   "execution_count": 9,
   "id": "a0d7a828-ee45-4a48-a0d3-7c97ac89369f",
   "metadata": {},
   "outputs": [
    {
     "name": "stdout",
     "output_type": "stream",
     "text": [
      "<class 'dict'>\n"
     ]
    }
   ],
   "source": [
    "d  = {}\n",
    "print(type(d))"
   ]
  },
  {
   "cell_type": "code",
   "execution_count": 10,
   "id": "6523c34b-76d6-4b4f-acc4-4370054a81e9",
   "metadata": {},
   "outputs": [
    {
     "name": "stdout",
     "output_type": "stream",
     "text": [
      "-4\n"
     ]
    }
   ],
   "source": [
    "# Print(-10//3) Output?\n",
    "print(-10//3)"
   ]
  },
  {
   "cell_type": "code",
   "execution_count": 11,
   "id": "f947ac6d-c9c8-45af-bf08-1c2cee08f7f7",
   "metadata": {},
   "outputs": [],
   "source": [
    "# Print the below statement:\n",
    "# \"\"\"Conversation- He Said, \"Aniket explain in good way\" and I subscribed channel\"\"\""
   ]
  },
  {
   "cell_type": "code",
   "execution_count": 12,
   "id": "4bf75990-7f3e-4369-bca0-f3cf5de8ba1a",
   "metadata": {},
   "outputs": [
    {
     "name": "stdout",
     "output_type": "stream",
     "text": [
      "\"\"\"Conversation- He Said, \"Aniket's explain in good way\" and I subscribed channel\"\"\"\n"
     ]
    }
   ],
   "source": [
    "print(\"\\\"\\\"\\\"Conversation- He Said, \\\"Aniket\\'s explain in good way\\\" and I subscribed channel\\\"\\\"\\\"\")\n",
    "\n",
    "\n",
    "# Use backslash(\\) for every inverted comma (\"\"\")"
   ]
  },
  {
   "cell_type": "code",
   "execution_count": 13,
   "id": "dee1b4be-45d8-47d7-a94f-20c12bfd95b9",
   "metadata": {},
   "outputs": [
    {
     "name": "stdout",
     "output_type": "stream",
     "text": [
      "512\n"
     ]
    }
   ],
   "source": [
    "# what will be the value of  (2**3**2)\n",
    "print(2**3**2)  # because it intiate from Right to left 2 <-3 <- 2"
   ]
  },
  {
   "cell_type": "code",
   "execution_count": 14,
   "id": "67210ec2-fb2b-4fe5-9bf1-3115fabc4261",
   "metadata": {},
   "outputs": [
    {
     "name": "stdout",
     "output_type": "stream",
     "text": [
      "unatnahS\n"
     ]
    }
   ],
   "source": [
    "name = \"Shantanu\"\n",
    "print(name[::-1])"
   ]
  },
  {
   "cell_type": "code",
   "execution_count": 15,
   "id": "30b69ff6-654f-4ff6-a4c1-d4848759c7de",
   "metadata": {},
   "outputs": [
    {
     "name": "stdout",
     "output_type": "stream",
     "text": [
      "{'jay': 33, 'Viru': 90}\n"
     ]
    }
   ],
   "source": [
    "my_dict = {\"jay\":30, \"Viru\":90, \"jay\":33}\n",
    "print(my_dict)"
   ]
  },
  {
   "cell_type": "code",
   "execution_count": 16,
   "id": "328b8299-b3f9-4c48-8cef-ef4989b0776c",
   "metadata": {},
   "outputs": [],
   "source": [
    "import pandas as pd"
   ]
  },
  {
   "cell_type": "code",
   "execution_count": 17,
   "id": "a890376c-b14a-466e-9dbd-0fd9c5aedf69",
   "metadata": {},
   "outputs": [
    {
     "name": "stdout",
     "output_type": "stream",
     "text": [
      "[(1, 2, 3), (4, 5, 6), (7, 8, 9)]\n"
     ]
    }
   ],
   "source": [
    "a = [1,4,7]\n",
    "b = [2,5,8]\n",
    "c = [3,6,9]\n",
    "merged = list(zip(a,b,c))\n",
    "print(merged)"
   ]
  },
  {
   "cell_type": "code",
   "execution_count": 18,
   "id": "81759d95-2c45-4e88-bd04-c71a0936be05",
   "metadata": {},
   "outputs": [
    {
     "name": "stdout",
     "output_type": "stream",
     "text": [
      "3.0\n"
     ]
    }
   ],
   "source": [
    "print(10.0//3)"
   ]
  },
  {
   "cell_type": "code",
   "execution_count": 19,
   "id": "55b01c02-0497-4276-b0fc-29cd41300f41",
   "metadata": {},
   "outputs": [
    {
     "data": {
      "text/plain": [
       "False"
      ]
     },
     "execution_count": 19,
     "metadata": {},
     "output_type": "execute_result"
    }
   ],
   "source": [
    "name = 'Aniket'\n",
    "name1 = 'aniket'\n",
    "name == name1\n",
    "\n",
    "# because the Ascii value of A(65) and a(97) is difference. ord('A')"
   ]
  },
  {
   "cell_type": "markdown",
   "id": "2dbcb13a-797a-4761-9163-11c36fa699d4",
   "metadata": {},
   "source": [
    "List -> A list is a comma seperated value inclose in square bracket [].\n",
    "        A list can store different type of data types.\n",
    "        List is mutable.\n",
    "        list takes high memory and process is also some.\n",
    "        list does not support packing and unpacking.\n",
    "\n",
    "\n",
    "\n",
    "\n",
    "\n",
    "tuple -> A tuple is also a comma seperated value inclose in paranthesis ().\n",
    "         A tuple can also store different type of Data types.\n",
    "         It is not mutable.\n",
    "         Tuple takes less memory than list.\n",
    "         tuple is fast.\n",
    "         tuple does support packing and unpacking\n"
   ]
  },
  {
   "cell_type": "code",
   "execution_count": 20,
   "id": "366dd13c-b67a-4f91-9943-dd5c69560872",
   "metadata": {},
   "outputs": [],
   "source": [
    "str1= \"sky is blue\""
   ]
  },
  {
   "cell_type": "code",
   "execution_count": 21,
   "id": "957df1eb-4a65-4e9a-a900-016d352b19b5",
   "metadata": {},
   "outputs": [
    {
     "data": {
      "text/plain": [
       "['sky', 'is', 'blue']"
      ]
     },
     "execution_count": 21,
     "metadata": {},
     "output_type": "execute_result"
    }
   ],
   "source": [
    "x = str1.split()\n",
    "x"
   ]
  },
  {
   "cell_type": "code",
   "execution_count": 22,
   "id": "803f811d-ec39-4f91-b429-d29da3eb4e93",
   "metadata": {},
   "outputs": [
    {
     "data": {
      "text/plain": [
       "'blue is sky'"
      ]
     },
     "execution_count": 22,
     "metadata": {},
     "output_type": "execute_result"
    }
   ],
   "source": [
    "x1 = x[::-1]\n",
    "x1\n",
    "x2 = \" \".join(x1)\n",
    "x2"
   ]
  },
  {
   "cell_type": "code",
   "execution_count": 23,
   "id": "a67b15a7-8064-46ea-97a9-4b795ab9ddd3",
   "metadata": {},
   "outputs": [
    {
     "name": "stdout",
     "output_type": "stream",
     "text": [
      "Blue is sky\n"
     ]
    }
   ],
   "source": [
    "## Now in one Line\n",
    "strr = \"sky is Blue\"\n",
    "print(\" \".join(strr.split()[::-1]))"
   ]
  },
  {
   "cell_type": "code",
   "execution_count": 24,
   "id": "0a2d85aa-ea3c-4cad-8854-070be350c8ae",
   "metadata": {},
   "outputs": [
    {
     "name": "stdout",
     "output_type": "stream",
     "text": [
      "[1, 3, 4]\n"
     ]
    }
   ],
   "source": [
    "# Unique Occurence:\n",
    "## List = [1,2,2,3,4,5,5,5,6,6]\n",
    "#Output-> 1,4\n",
    "l = [1,2,2,3,4,5,5,5,6,6]\n",
    "result = []\n",
    "for i in l:\n",
    "    if l.count(i) == 1:\n",
    "        result.append(i)\n",
    "print(result)\n"
   ]
  },
  {
   "cell_type": "code",
   "execution_count": 25,
   "id": "d7c99249-9cdf-4bd4-8905-a2fcebbdaec8",
   "metadata": {},
   "outputs": [
    {
     "name": "stdout",
     "output_type": "stream",
     "text": [
      "{'a': 3, 'b': 2, 'c': 3}\n"
     ]
    }
   ],
   "source": [
    "## count of numbers\n",
    "# mystr = \"a,a,a,b,b,c,c,c\"\n",
    "# output = a:3, b:2, c:3\n",
    "mystr = \"a,a,a,b,b,c,c,c\"\n",
    "l = mystr.split(',')\n",
    "d = {}\n",
    "for i in l:\n",
    "    if i not in d.keys():\n",
    "        d[i] = 0\n",
    "    d[i] +=1\n",
    "print(d)\n"
   ]
  },
  {
   "cell_type": "code",
   "execution_count": 26,
   "id": "6e351a02-ac24-45e2-bda4-9ac1ba0f466f",
   "metadata": {},
   "outputs": [
    {
     "name": "stdout",
     "output_type": "stream",
     "text": [
      "98\n"
     ]
    }
   ],
   "source": [
    "# find max withot built in function\n",
    "nums = [45,78,12,46,98,66,53,21,63,87,89,91]\n",
    "max_value = nums[0]\n",
    "for i in nums:\n",
    "    if i> max_value:\n",
    "        max_value = i\n",
    "print(max_value)\n",
    "        \n",
    "    "
   ]
  },
  {
   "cell_type": "code",
   "execution_count": 27,
   "id": "b41a5862-a177-4f9a-b2a0-d2274821bf7c",
   "metadata": {},
   "outputs": [
    {
     "name": "stdout",
     "output_type": "stream",
     "text": [
      "['Marathi', 'Hindi', 'Gujarati', 'Urdu', 'sindhi', 'English', 'Spainsh']\n"
     ]
    }
   ],
   "source": [
    "# Extend method for Append more than one Item:\n",
    "lang1 = ['Marathi','Hindi','Gujarati','Urdu']\n",
    "lang2 = ['sindhi','English','Spainsh']\n",
    "for i in lang2:\n",
    "    lang1.append(i)\n",
    "\n",
    "print(lang1)"
   ]
  },
  {
   "cell_type": "code",
   "execution_count": 28,
   "id": "3193749c-2563-4d96-ba78-1e9da037362c",
   "metadata": {},
   "outputs": [
    {
     "name": "stdout",
     "output_type": "stream",
     "text": [
      "['Marathi', 'Hindi', 'Gujarati', 'Urdu', 'sindhi', 'English', 'Spainsh', 'sindhi', 'English', 'Spainsh']\n"
     ]
    }
   ],
   "source": [
    "## Now with extend()\n",
    "lang1.extend(lang2)\n",
    "\n",
    "print(lang1)"
   ]
  },
  {
   "cell_type": "code",
   "execution_count": 29,
   "id": "13583f01-ae91-4b47-9797-49e8fca678eb",
   "metadata": {},
   "outputs": [
    {
     "name": "stdout",
     "output_type": "stream",
     "text": [
      "[9, 36, 64, 144, 196, 225]\n"
     ]
    }
   ],
   "source": [
    "# List comprehension\n",
    "nums = [3,6,8,12,14,15]\n",
    "print([i*i for i in nums])"
   ]
  },
  {
   "cell_type": "code",
   "execution_count": 30,
   "id": "bc5116dd-f79b-4ad5-84d4-53b9ae6c9317",
   "metadata": {},
   "outputs": [
    {
     "name": "stdout",
     "output_type": "stream",
     "text": [
      "[36, 64, 144, 196]\n"
     ]
    }
   ],
   "source": [
    "# with if:\n",
    "# List comprehension\n",
    "nums = [3,6,8,12,14,15]\n",
    "print([i*i for i in nums if i%2==0])"
   ]
  },
  {
   "cell_type": "code",
   "execution_count": 31,
   "id": "c32c19b4-5cea-46d4-9b84-d33de085dec0",
   "metadata": {},
   "outputs": [
    {
     "name": "stdout",
     "output_type": "stream",
     "text": [
      "[36, 144]\n"
     ]
    }
   ],
   "source": [
    "# with more than one if:\n",
    "# List comprehension\n",
    "nums = [3,6,8,12,14,15]\n",
    "print([i*i for i in nums if i%2==0 if i%3==0])"
   ]
  },
  {
   "cell_type": "code",
   "execution_count": 32,
   "id": "64318ffa-2e55-4a2e-9b93-900f6e690b83",
   "metadata": {},
   "outputs": [
    {
     "data": {
      "text/plain": [
       "[27, 216, 64, 144, 2744, 3375]"
      ]
     },
     "execution_count": 32,
     "metadata": {},
     "output_type": "execute_result"
    }
   ],
   "source": [
    "# now with if else:\n",
    "[i*i if i&2==0 else i*i*i for i in nums]"
   ]
  },
  {
   "cell_type": "code",
   "execution_count": 33,
   "id": "59c05771-5ade-429f-b86e-48273ded9d0a",
   "metadata": {},
   "outputs": [
    {
     "name": "stdout",
     "output_type": "stream",
     "text": [
      "Vijay --> 21000\n"
     ]
    }
   ],
   "source": [
    "student = {\"ajay\":10000,\"raj\":12000,'Vijay':21000}\n",
    "d = list(student.keys())[-1]\n",
    "print(d,'-->',student[d])"
   ]
  },
  {
   "cell_type": "code",
   "execution_count": 34,
   "id": "66aa6ae2-0b54-4adc-99f6-556507a93a1e",
   "metadata": {},
   "outputs": [
    {
     "name": "stdout",
     "output_type": "stream",
     "text": [
      "[20, 40]\n"
     ]
    }
   ],
   "source": [
    "# Write a program to print the dublicates in list with built in function\n",
    "l = ['Hello', 10,20,40,20,60,40,30]\n",
    "d =[]\n",
    "for i in l:\n",
    "    if l.count(i)>1 and i not in d:\n",
    "        d.append(i)\n",
    "print(d) "
   ]
  },
  {
   "cell_type": "code",
   "execution_count": 35,
   "id": "89b35c39-098b-4f62-8c82-a13814903ed9",
   "metadata": {},
   "outputs": [
    {
     "name": "stdout",
     "output_type": "stream",
     "text": [
      "[20, 40]\n"
     ]
    }
   ],
   "source": [
    "# Write a program to print the dublicates in list without built in function:\n",
    "l = ['Hello', 10,20,40,20,60,40,30]\n",
    "d = []\n",
    "for i in range(len(l)):\n",
    "    for j in range(i+1,len(l)):\n",
    "        if l[i] == l[j]:\n",
    "            d.append(l[i])\n",
    "print(d)\n",
    "            "
   ]
  },
  {
   "cell_type": "code",
   "execution_count": 36,
   "id": "926de69e-7365-4e28-b53f-720042622464",
   "metadata": {},
   "outputs": [
    {
     "data": {
      "text/plain": [
       "True"
      ]
     },
     "execution_count": 36,
     "metadata": {},
     "output_type": "execute_result"
    }
   ],
   "source": [
    "# isinstance(object,datatype): It give you the answer in Boolean form\n",
    "l = [10,20,30]\n",
    "isinstance(l,list)"
   ]
  },
  {
   "cell_type": "code",
   "execution_count": 37,
   "id": "aa3b2108-1d80-4804-a660-2b23af2d2763",
   "metadata": {},
   "outputs": [
    {
     "name": "stdout",
     "output_type": "stream",
     "text": [
      "3\n"
     ]
    }
   ],
   "source": [
    "'''\n",
    "write a python program to count number of items having list as values '''\n",
    "\n",
    "data = {'jay':['male',23,2000],'raj':25, 'vicky':['male', 22], 'ram':['male',23]}            \n",
    "count = 0\n",
    "for i in data:\n",
    "    if isinstance(data[i],list):\n",
    "        count +=1\n",
    "print(count)"
   ]
  },
  {
   "cell_type": "code",
   "execution_count": 38,
   "id": "89803b0a-ad45-4011-bdf7-18c59bb04b66",
   "metadata": {},
   "outputs": [
    {
     "name": "stdin",
     "output_type": "stream",
     "text": [
      "Enter the letter to count aniket\n"
     ]
    },
    {
     "name": "stdout",
     "output_type": "stream",
     "text": [
      "3\n"
     ]
    }
   ],
   "source": [
    "#write a python program to count number of vowels in a string\n",
    "char = input(\"Enter the letter to count\")\n",
    "x = char.lower()\n",
    "count = 0\n",
    "for i in range(len(x)):\n",
    "    if x[i] in ['a','e','i','o','u']:\n",
    "        count +=1\n",
    "print(count)"
   ]
  },
  {
   "cell_type": "code",
   "execution_count": 39,
   "id": "12056138-4c10-4471-8d1c-cc03ecb93f3a",
   "metadata": {},
   "outputs": [
    {
     "name": "stdout",
     "output_type": "stream",
     "text": [
      "tekinA\n"
     ]
    }
   ],
   "source": [
    "# Reverse a string using For loop:\n",
    "x = 'Aniket'\n",
    "rev_str = ''\n",
    "for i in x:\n",
    "    rev_str = i+rev_str\n",
    "print(rev_str)\n",
    "    "
   ]
  },
  {
   "cell_type": "markdown",
   "id": "6a8e16a6-fe49-4153-bb53-36e25a82f8c8",
   "metadata": {},
   "source": [
    "# Wipro campus placement Questions:"
   ]
  },
  {
   "cell_type": "code",
   "execution_count": 40,
   "id": "d2c87b6b-d4a1-4045-a902-208a5fe9e4e8",
   "metadata": {},
   "outputs": [
    {
     "name": "stdout",
     "output_type": "stream",
     "text": [
      "['cat', 'latt']\n"
     ]
    }
   ],
   "source": [
    "## Write a program to display the words that are repeated more than or equal to N times in the text.\n",
    "\n",
    "# Input:\n",
    "# \" cat batman latt matter cat matter cat cat latt latt\"\n",
    "# N= 3\n",
    "# Output:\n",
    "# cat, latt\n",
    "\n",
    "s = \" cat batman latt matter cat matter cat cat latt latt\"\n",
    "N = 3\n",
    "d =[]\n",
    "x = s.split()\n",
    "for i in set(x):\n",
    "    if x.count(i)>=N:\n",
    "        d.append(i)\n",
    "print(d)   "
   ]
  },
  {
   "cell_type": "code",
   "execution_count": 41,
   "id": "ae615c80-e387-45a3-895a-c0485805bfc1",
   "metadata": {},
   "outputs": [
    {
     "name": "stdout",
     "output_type": "stream",
     "text": [
      "cat\n",
      "latt\n"
     ]
    }
   ],
   "source": [
    "s = \" cat batman latt matter cat matter cat cat latt latt\"\n",
    "N = 3\n",
    "d ={}\n",
    "x = s.split()\n",
    "for i in x:\n",
    "    if i not in d.keys():\n",
    "        d[i] = 0\n",
    "    d[i] +=1\n",
    "#print(d)\n",
    "for word, count in d.items():\n",
    "    if count >=N:\n",
    "        print(word)"
   ]
  },
  {
   "cell_type": "code",
   "execution_count": 42,
   "id": "8e210f79-0560-44dd-828c-55dde5c53776",
   "metadata": {},
   "outputs": [
    {
     "data": {
      "text/plain": [
       "'ABR137'"
      ]
     },
     "execution_count": 42,
     "metadata": {},
     "output_type": "execute_result"
    }
   ],
   "source": [
    "## Write a python Program to sort character and number so that first alphabets and then number are printed\n",
    "# Input: B7A1R3\n",
    "# Output: ABR137\n",
    "x = 'B7A1R3'\n",
    "char = []\n",
    "int = []\n",
    "for c in x:\n",
    "    if c.isalpha():\n",
    "        char.append(c)\n",
    "    else:\n",
    "        int.append(c)\n",
    "# print(sorted(char)+sorted(int))\n",
    "l = ''.join(sorted(char)+sorted(int))\n",
    "l\n",
    "\n",
    "        \n",
    "    \n"
   ]
  },
  {
   "cell_type": "code",
   "execution_count": 43,
   "id": "fc5ba1b8-d56e-4e59-9b18-9b25de0a3c54",
   "metadata": {},
   "outputs": [
    {
     "ename": "TypeError",
     "evalue": "'list' object is not callable",
     "output_type": "error",
     "traceback": [
      "\u001b[1;31m---------------------------------------------------------------------------\u001b[0m",
      "\u001b[1;31mTypeError\u001b[0m                                 Traceback (most recent call last)",
      "Cell \u001b[1;32mIn[43], line 6\u001b[0m\n\u001b[0;32m      4\u001b[0m sum1 \u001b[38;5;241m=\u001b[39m \u001b[38;5;241m0\u001b[39m\n\u001b[0;32m      5\u001b[0m \u001b[38;5;28;01mfor\u001b[39;00m digit \u001b[38;5;129;01min\u001b[39;00m \u001b[38;5;28mstr\u001b[39m(i):  \u001b[38;5;66;03m# Iterate over each digit\u001b[39;00m\n\u001b[1;32m----> 6\u001b[0m     sum1 \u001b[38;5;241m+\u001b[39m\u001b[38;5;241m=\u001b[39m \u001b[38;5;28mint\u001b[39m(digit) \u001b[38;5;241m*\u001b[39m\u001b[38;5;241m*\u001b[39m n  \u001b[38;5;66;03m# Add the nth power of the digit to sum1\u001b[39;00m\n\u001b[0;32m      7\u001b[0m \u001b[38;5;28;01mif\u001b[39;00m sum1 \u001b[38;5;241m==\u001b[39m num:  \u001b[38;5;66;03m# Check if the sum of the nth powers of digits equals the original number\u001b[39;00m\n\u001b[0;32m      8\u001b[0m     \u001b[38;5;28mprint\u001b[39m(num)\n",
      "\u001b[1;31mTypeError\u001b[0m: 'list' object is not callable"
     ]
    }
   ],
   "source": [
    "for i in range(1, 1001):\n",
    "    num = i\n",
    "    n = len(str(i))  # Find the number of digits\n",
    "    sum1 = 0\n",
    "    for digit in str(i):  # Iterate over each digit\n",
    "        sum1 += int(digit) ** n  # Add the nth power of the digit to sum1\n",
    "    if sum1 == num:  # Check if the sum of the nth powers of digits equals the original number\n",
    "        print(num)  # Print the Armstrong number\n"
   ]
  },
  {
   "cell_type": "code",
   "execution_count": null,
   "id": "cd140ce8-5d2e-44f5-8ba4-7fec29a8fa63",
   "metadata": {},
   "outputs": [],
   "source": [
    "# Write a program to swap contents of variable\n",
    "a = 10\n",
    "b = 20\n",
    "a,b = b,a\n",
    "print('a :',a)\n",
    "print('b :',b)\n"
   ]
  },
  {
   "cell_type": "code",
   "execution_count": null,
   "id": "b018c90a-a634-4352-b09e-cfbc880ab25f",
   "metadata": {},
   "outputs": [],
   "source": [
    "a = 10\n",
    "b = 20\n",
    "\n",
    "temp = a\n",
    "a = b\n",
    "b = temp\n",
    "\n",
    "print('a:',a)\n",
    "print('b:',b)\n"
   ]
  },
  {
   "cell_type": "markdown",
   "id": "cf16fc56-c77e-4f91-9dae-3bf31a3ab64a",
   "metadata": {},
   "source": [
    "### What are Perfect numbers.\n",
    "-> Positive integer that is equal to sum of its positive divisors, excluding the number itself.\n",
    "\n",
    "if num = 28\n",
    "then 28 is devisible by 1, 2, 4,14,7\n",
    "and if I add those number it is 28\n",
    "so 28 = 28\n",
    "Hence, it is Perfect number"
   ]
  },
  {
   "cell_type": "code",
   "execution_count": null,
   "id": "54595e54-63bc-432d-bb59-838e42f5535e",
   "metadata": {},
   "outputs": [],
   "source": [
    "num = int(input('Enter the number: '))\n",
    "d = 0\n",
    "for i in range(1, num):\n",
    "    if num % i == 0:\n",
    "        d = d+i\n",
    "if d==num:\n",
    "    print('It is a Perfect number:', d)\n",
    "else:\n",
    "    print('It is not a perfect number:', d)"
   ]
  },
  {
   "cell_type": "code",
   "execution_count": null,
   "id": "11d155a5-e84e-4eea-b946-349c4f829f91",
   "metadata": {},
   "outputs": [],
   "source": [
    "# Write a program to write input and get the below output:\n",
    "# 'a3b2c4' -> aaabbcccc\n",
    "\n",
    "str1 = 'a3b2c4'\n",
    "output = ''\n",
    "for i in str1:\n",
    "    if i.isalpha():\n",
    "        var = i\n",
    "    else:\n",
    "        num = int(i)\n",
    "        output = output+(num*var)\n",
    "print(output)\n",
    "    "
   ]
  },
  {
   "cell_type": "code",
   "execution_count": null,
   "id": "b245ee53-b265-41eb-ab78-4c0669ded360",
   "metadata": {},
   "outputs": [],
   "source": [
    "# write a program to get the following output, here is the questions:\n",
    "\n",
    "# input = aaaabbbccd\n",
    "# output  = 4a3b2c1d\n",
    "str1 = 'aaaabbbccd'\n",
    "output = ''\n",
    "counter = 0\n",
    "char = str1[0]\n",
    "for i in str1:\n",
    "    if i == char:\n",
    "        counter +=1\n",
    "    else:\n",
    "        output = output + str(counter) + char\n",
    "        counter =1 \n",
    "        char = i\n",
    "\n",
    "output = output + str(counter) + char\n",
    "print(output)\n",
    "\n",
    "        \n",
    "        \n",
    "        \n"
   ]
  },
  {
   "cell_type": "code",
   "execution_count": null,
   "id": "11ecddc2-dee9-451e-a36f-0219dab4a3c7",
   "metadata": {},
   "outputs": [],
   "source": [
    "# Write a program for fibonnaci series\n",
    "# input = 9\n",
    "# output  = 0,1,1,2,3,5,8,13,21\n",
    "n = int(input('Enter the number: '))\n",
    "first = 0\n",
    "second = 1\n",
    "if n<=0:\n",
    "    print('Enter the value more than 0')\n",
    "elif n==1:\n",
    "    print(first)\n",
    "else:\n",
    "    for i in range(n):\n",
    "        print(first,end = ' ')\n",
    "        temp = first\n",
    "        first = second\n",
    "        second = temp+first"
   ]
  },
  {
   "cell_type": "code",
   "execution_count": null,
   "id": "83a5409f-4ff4-4b79-aeef-58e567891a7f",
   "metadata": {},
   "outputs": [],
   "source": [
    "## Print your name 10 times without loops and manually:\n",
    "count = 1\n",
    "def printer(name):\n",
    "    global count\n",
    "    if count<=10:\n",
    "        print(name)\n",
    "        count +=1\n",
    "        printer(name)\n",
    "\n",
    "printer(\"aniket\")\n"
   ]
  },
  {
   "cell_type": "code",
   "execution_count": null,
   "id": "0eaae48d-c653-4abb-95f8-a2dbbf168c37",
   "metadata": {},
   "outputs": [],
   "source": [
    "# Iterate on list without using loop from start to end\n",
    "# input -> Enter a list: [10,20,30,40,50]\n",
    "# start index = 1\n",
    "# end index = 4\n",
    "# output = 20,30,40\n"
   ]
  },
  {
   "cell_type": "code",
   "execution_count": null,
   "id": "b7f18223-5df7-4c5f-9837-47cff511c0d6",
   "metadata": {},
   "outputs": [],
   "source": [
    "lst = eval(input('ENter a list: '))\n",
    "start = eval(input('ENter a start value: '))\n",
    "end = eval(input('ENter a end value: '))\n",
    "def iterate(lst, start, end):\n",
    "    if start<0 or start>=end:\n",
    "        return \n",
    "    print(lst[start], end= ' ')\n",
    "    iterate(lst,start+1,end)   \n",
    "iterate(lst,start, end)"
   ]
  },
  {
   "cell_type": "code",
   "execution_count": null,
   "id": "8668f797-f6b9-4cf8-b895-35647ad20f8f",
   "metadata": {},
   "outputs": [],
   "source": [
    "# Print 1 to n without using any loop:\n",
    "def printer(n, count =1):\n",
    "    if count<=n:\n",
    "        print(count)\n",
    "        printer(n,count+1)\n",
    "\n",
    "printer(9)\n"
   ]
  },
  {
   "cell_type": "code",
   "execution_count": null,
   "id": "3624c508-dd1a-44a0-93a1-5c19e24eacb1",
   "metadata": {},
   "outputs": [],
   "source": [
    "lst = eval(input('Enter the number:'))\n",
    "start = eval(input('Enter the start value: '))\n",
    "end = eval(input('Enter the end value: '))\n",
    "def iterate(lst, start, end):\n",
    "    if start<0 or start>=end:\n",
    "        return\n",
    "    print(lst[start], end = ' ')\n",
    "    iterate(lst, start+1, end)\n",
    "iterate(lst, start, end)\n"
   ]
  },
  {
   "cell_type": "code",
   "execution_count": null,
   "id": "d841d5d0-93cf-4956-a26e-3f88274c1bcf",
   "metadata": {},
   "outputs": [],
   "source": [
    "while True:\n",
    "    num1 = int(input(\"Enter the first number: \"))\n",
    "    num2 = int(input(\"Enter the second number: \"))\n",
    "\n",
    "    print(\"Choose an operation:\")\n",
    "    print(\"1. Addition\")\n",
    "    print(\"2. Subtraction\")\n",
    "    print(\"3. Multiplication\")\n",
    "    print(\"4. Division\")\n",
    "    \n",
    "    choose = int(input(\"Enter your choice (1/2/3/4): \"))\n",
    "\n",
    "    if choose == 1:\n",
    "        print('Addition is:', num1 + num2)\n",
    "    elif choose == 2:\n",
    "        print('Subtraction is:', num1 - num2)\n",
    "    elif choose == 3:\n",
    "        print('Multiplication is:', num1 * num2)\n",
    "    elif choose == 4:\n",
    "        if num2 != 0:\n",
    "            print('Division is:', num1 / num2)\n",
    "        else:\n",
    "            print(\"Error: Division by zero is not allowed!\")\n",
    "    else:\n",
    "        print(\"Invalid option!\")\n",
    "\n",
    "    ans = input(\"Do you want to continue? (y/n): \").lower()\n",
    "    if ans != 'y':\n",
    "        break\n"
   ]
  },
  {
   "cell_type": "code",
   "execution_count": null,
   "id": "4535f8e1-37b2-40ba-bc4b-61d0a566c1d0",
   "metadata": {},
   "outputs": [],
   "source": [
    "### Factorial\n",
    "def fact(n):\n",
    "    if n==0:\n",
    "        return 1\n",
    "    else:\n",
    "        return n*fact(n-1)\n",
    "\n",
    "n = 5\n",
    "print(fact(n))\n",
    " "
   ]
  },
  {
   "cell_type": "code",
   "execution_count": null,
   "id": "4fe3f314-552d-4e82-8492-b67b35db0a38",
   "metadata": {},
   "outputs": [],
   "source": [
    "# write a python program for twin prime numbers\n",
    "def IsPrime(num):\n",
    "    count = 0\n",
    "    for i in range(1, num+1):\n",
    "        if num%i==0:\n",
    "            count +=1\n",
    "    return count==2\n",
    "        \n",
    "    \n",
    "\n",
    "\n",
    "num1 = int(input(\"Enter the first number: \"))\n",
    "num2 = int(input(\"Enter the second number: \"))\n",
    "if IsPrime(num1) and IsPrime(num2):\n",
    "    if abs(num1-num2) == 2:\n",
    "        print(f' the {num1} and {num2} are twin prime number')\n",
    "    else:\n",
    "        print(f' the {num1} and {num2} are not twin prime number')\n",
    "else:\n",
    "    print(\"Number are not prime\")"
   ]
  },
  {
   "cell_type": "code",
   "execution_count": null,
   "id": "f9462a4b-2b2e-447b-80da-aef444d04f82",
   "metadata": {},
   "outputs": [],
   "source": [
    "## write a program for prime number:\n",
    "def prime(n):\n",
    "    count = 0\n",
    "    for i in range(1, n+1):\n",
    "        if n%i==0:\n",
    "            count +=1\n",
    "    if count ==2:\n",
    "        print('The number',n , 'is prime number')\n",
    "    else:\n",
    "        print('Not a prime number')\n",
    "\n",
    "n = 7\n",
    "prime(n)"
   ]
  },
  {
   "cell_type": "code",
   "execution_count": null,
   "id": "3aa91b69-4184-472b-aeb1-4da72e3dead9",
   "metadata": {},
   "outputs": [],
   "source": [
    "# Write a python program to make string in lowercase without any method:\n",
    "print(ord('A'))"
   ]
  },
  {
   "cell_type": "code",
   "execution_count": null,
   "id": "e035e54b-0ddd-45be-9b7b-3427d5b7f71f",
   "metadata": {},
   "outputs": [],
   "source": [
    "print(ord('a'))"
   ]
  },
  {
   "cell_type": "code",
   "execution_count": null,
   "id": "911dab34-0a37-4948-8875-8ef1363438ce",
   "metadata": {},
   "outputs": [],
   "source": [
    "print(ord('Z'), ',', ord('z'))\n"
   ]
  },
  {
   "cell_type": "code",
   "execution_count": null,
   "id": "0ee1a785-0e68-4b5a-87d4-1350b5fe8584",
   "metadata": {},
   "outputs": [],
   "source": [
    "# the difference between 97-65 is 32\n",
    "# so \n",
    "print(chr(ord('B')+32))"
   ]
  },
  {
   "cell_type": "code",
   "execution_count": 26,
   "id": "e64677c2-49a5-4963-89aa-9f94b5c1a44e",
   "metadata": {},
   "outputs": [
    {
     "name": "stdin",
     "output_type": "stream",
     "text": [
      "Enter the string:  Aniket\n"
     ]
    },
    {
     "name": "stdout",
     "output_type": "stream",
     "text": [
      "Lower case string is: aniket\n"
     ]
    }
   ],
   "source": [
    "str1 = input(\"Enter the string: \")\n",
    "upper_case = \"\"\n",
    "for ch in str1:\n",
    "    asc = ord(ch)\n",
    "    if asc > 64 and asc<91:\n",
    "        upper_case = upper_case+chr(asc+32)\n",
    "    else:\n",
    "        upper_case = upper_case + chr(asc)\n",
    "\n",
    "print(\"Lower case string is:\", upper_case)\n",
    "    \n",
    "    "
   ]
  },
  {
   "cell_type": "code",
   "execution_count": 25,
   "id": "ea29b5ca-c6ae-4954-9f1f-621cfa35ac85",
   "metadata": {},
   "outputs": [
    {
     "name": "stdin",
     "output_type": "stream",
     "text": [
      "ENter the string:  Aniket\n"
     ]
    },
    {
     "name": "stdout",
     "output_type": "stream",
     "text": [
      "Highest string is: ANIKET\n"
     ]
    }
   ],
   "source": [
    "#\"lowest to HIGHEST\"\n",
    "str2 = input(\"ENter the string: \")\n",
    "Higher_case= ''\n",
    "for i in str2:\n",
    "    asc = ord(i)\n",
    "    if asc>96 and asc<123:\n",
    "        Higher_case += chr(asc-32)\n",
    "    else:\n",
    "        Higher_case += chr(asc)\n",
    "print(\"Highest string is:\",Higher_case) \n"
   ]
  },
  {
   "cell_type": "code",
   "execution_count": null,
   "id": "d8dc046b-d57a-47e0-a954-f4405480455f",
   "metadata": {},
   "outputs": [],
   "source": []
  },
  {
   "cell_type": "code",
   "execution_count": null,
   "id": "b0940a05-8743-43d6-9708-7a15459e5dfe",
   "metadata": {},
   "outputs": [],
   "source": [
    "# Write a program for finding pair of highest product:\n",
    "\n",
    "# input =[5,3,1,4,3,7,6,9,2]\n",
    "# output = 7,9\n",
    "def highestProduct(arr):\n",
    "    temp = 0\n",
    "    pair = (0,0)\n",
    "    for i in range(len(arr)):\n",
    "        for j in range(i+1, len(arr)):\n",
    "            if arr[i]*arr[j] > temp:\n",
    "                temp = arr[i]*arr[j]\n",
    "                pair = arr[i],arr[j]\n",
    "    print(pair)\n",
    "arr = [5,3,1,4,3,7,6,9,2]\n",
    "highestProduct(arr)"
   ]
  },
  {
   "cell_type": "code",
   "execution_count": null,
   "id": "298cd722-5388-4123-9d6d-b42f2f47ee67",
   "metadata": {},
   "outputs": [],
   "source": [
    "# find the total number of stings from the m given stings which can be obtained by removing one character from s.\n",
    "\n",
    "# input = length of string s (n): 5\n",
    "# enter the string(s): 'abcde'\n",
    "\n",
    "# number of string in t (m): 4\n",
    "# enter the strings (t): ['abcd','abcc','cddd','acde']\n",
    "\n",
    "def obtained(n,s,m,t):\n",
    "    count = 0\n",
    "    l1 = []\n",
    "    for i in s:\n",
    "        l1.append(i)\n",
    "    for j in range(n):\n",
    "        char = l1.pop(j)\n",
    "        for word in t:\n",
    "            if ''.join(l1)==word:\n",
    "                count +=1\n",
    "        l1.insert(j,char)\n",
    "    return count\n",
    "    \n",
    "\n",
    "print(obtained(5,'abcde',4, ['abcd','abcc','cddd','acde']))"
   ]
  },
  {
   "cell_type": "code",
   "execution_count": null,
   "id": "8a94a77c-38e8-471e-a834-fbffe066ecab",
   "metadata": {},
   "outputs": [],
   "source": [
    "# Given an array of integers 'nums' and an integer 'target'. return indices of two number such that they add up to target/\n",
    "# you may assume that each input would have exactly one solution, and you may not use the same element twice.\n",
    "# input = nums = [2,7,11,15]\n",
    "           # target = 9\n",
    "#          output = [0,1]\n",
    "\n",
    "def twosums(nums, target):\n",
    "    nums.sort()\n",
    "    l = 0\n",
    "    r = len(nums)-1\n",
    "    while (l<=r):\n",
    "        if nums[l] + nums[r] == target:\n",
    "            return l,r\n",
    "            l = l+1\n",
    "            r = r-1\n",
    "        elif nums[l] + nums[r] < target:\n",
    "            l = l+1\n",
    "        elif nums[l] + nums[r] > target:\n",
    "            r = r-1\n",
    "\n",
    "nums = [2,7,11,15]\n",
    "target = 9\n",
    "twosums(nums, target)"
   ]
  },
  {
   "cell_type": "markdown",
   "id": "c49c0a1a-10f8-427f-826e-9614a140e7b6",
   "metadata": {},
   "source": [
    "### Print all possible substring of string Python"
   ]
  },
  {
   "cell_type": "code",
   "execution_count": 35,
   "id": "63a800ca-0188-4b2d-a54e-11384cb1069f",
   "metadata": {},
   "outputs": [
    {
     "name": "stdout",
     "output_type": "stream",
     "text": [
      "['b', 'by', 'bye', 'y', 'ye', 'e']\n"
     ]
    }
   ],
   "source": [
    "str1 = \"bye\"\n",
    "subs = []\n",
    "for i in range(0, len(str1)):\n",
    "    for j in range(i+1, len(str1)+1):\n",
    "        subs.append(str1[i:j])\n",
    "print(subs)"
   ]
  },
  {
   "cell_type": "markdown",
   "id": "11a7b95a-c293-4fd3-9e4d-5e75df80eec2",
   "metadata": {},
   "source": [
    "### Printing table of entered"
   ]
  },
  {
   "cell_type": "code",
   "execution_count": 44,
   "id": "55f5365b-d6e6-44e6-bce2-b7e7bd44d62e",
   "metadata": {},
   "outputs": [
    {
     "name": "stdin",
     "output_type": "stream",
     "text": [
      "Enter the number:  4\n"
     ]
    },
    {
     "ename": "TypeError",
     "evalue": "'list' object is not callable",
     "output_type": "error",
     "traceback": [
      "\u001b[1;31m---------------------------------------------------------------------------\u001b[0m",
      "\u001b[1;31mTypeError\u001b[0m                                 Traceback (most recent call last)",
      "Cell \u001b[1;32mIn[44], line 1\u001b[0m\n\u001b[1;32m----> 1\u001b[0m nums \u001b[38;5;241m=\u001b[39m \u001b[38;5;28mint\u001b[39m(\u001b[38;5;28minput\u001b[39m(\u001b[38;5;124m\"\u001b[39m\u001b[38;5;124mEnter the number: \u001b[39m\u001b[38;5;124m\"\u001b[39m))\n\u001b[0;32m      2\u001b[0m \u001b[38;5;28;01mwhile\u001b[39;00m \u001b[38;5;28;01mTrue\u001b[39;00m:\n\u001b[0;32m      3\u001b[0m     \u001b[38;5;28;01mfor\u001b[39;00m i \u001b[38;5;129;01min\u001b[39;00m \u001b[38;5;28mrange\u001b[39m(\u001b[38;5;241m0\u001b[39m, \u001b[38;5;241m11\u001b[39m):\n",
      "\u001b[1;31mTypeError\u001b[0m: 'list' object is not callable"
     ]
    }
   ],
   "source": [
    "nums = int(input(\"Enter the number: \"))\n",
    "while True:\n",
    "    for i in range(0, 11):\n",
    "        print( nums,'*', i, '=', nums*i)\n",
    "    x = input(\"Do You want to continue: y/N\")\n",
    "    if x!='y':\n",
    "        break\n",
    "    \n",
    "    \n"
   ]
  },
  {
   "cell_type": "code",
   "execution_count": null,
   "id": "386cea8b-3778-4667-a2dc-e55a4ce0ca02",
   "metadata": {},
   "outputs": [],
   "source": [
    "# list1 = ['xyz',111]\n",
    "# for i in list1:\n",
    "#     list1.append(i)\n",
    "#     print(i,end =\" \")"
   ]
  },
  {
   "cell_type": "code",
   "execution_count": 1,
   "id": "d4a3b006-52c7-4558-b64b-3c1e449d0165",
   "metadata": {},
   "outputs": [
    {
     "name": "stdout",
     "output_type": "stream",
     "text": [
      "Hello world\n"
     ]
    }
   ],
   "source": [
    "print('Hello world')"
   ]
  },
  {
   "cell_type": "code",
   "execution_count": 21,
   "id": "c96716f6-2221-415b-85b3-63c47bb23a6a",
   "metadata": {},
   "outputs": [
    {
     "name": "stdout",
     "output_type": "stream",
     "text": [
      "88.8\n",
      "82.0\n",
      "85.0\n",
      "76.8\n"
     ]
    }
   ],
   "source": [
    "student_data = {\n",
    "    'jay':{'details':{'roll': 101, 'marks':[92,89,90,95,78]}},\n",
    "    'viru':{'details':{'roll': 102, 'marks':[61,81,91,98,79]}},\n",
    "    'basanti':{'details':{'roll':103, 'marks':[83,89,80,95,78]}},\n",
    "    'thakur':{'details':{'roll':104, 'marks':[52,69,90,95,78]}}\n",
    "}\n",
    "num_of_sub = 5\n",
    "for i in student_data:\n",
    "    x = sum(student_data[i]['details']['marks'])/num_of_sub\n",
    "    print(x)\n",
    "       \n",
    "                       \n",
    "        \n",
    "        "
   ]
  },
  {
   "cell_type": "code",
   "execution_count": 31,
   "id": "42e337e3-22b7-48d8-8980-e4c42fc8d8da",
   "metadata": {},
   "outputs": [
    {
     "ename": "TypeError",
     "evalue": "'NoneType' object is not iterable",
     "output_type": "error",
     "traceback": [
      "\u001b[1;31m---------------------------------------------------------------------------\u001b[0m",
      "\u001b[1;31mTypeError\u001b[0m                                 Traceback (most recent call last)",
      "Cell \u001b[1;32mIn[31], line 6\u001b[0m\n\u001b[0;32m      4\u001b[0m     y \u001b[38;5;241m=\u001b[39m \u001b[38;5;28mlist\u001b[39m(x)\n\u001b[0;32m      5\u001b[0m     z \u001b[38;5;241m=\u001b[39m y\u001b[38;5;241m.\u001b[39msort()\n\u001b[1;32m----> 6\u001b[0m     l \u001b[38;5;241m=\u001b[39m \u001b[38;5;28mset\u001b[39m(z)\n\u001b[0;32m      7\u001b[0m \u001b[38;5;28mprint\u001b[39m(l)\n",
      "\u001b[1;31mTypeError\u001b[0m: 'NoneType' object is not iterable"
     ]
    }
   ],
   "source": [
    "n = 'geeks'\n",
    "for i in n:\n",
    "    x = set(n)\n",
    "    y = list(x)\n",
    "    z = y.sort()\n",
    "    l = set(z)\n",
    "print(l)"
   ]
  },
  {
   "cell_type": "code",
   "execution_count": null,
   "id": "72a20a46-e155-4911-95f9-4750813c0f86",
   "metadata": {},
   "outputs": [],
   "source": []
  },
  {
   "cell_type": "code",
   "execution_count": null,
   "id": "fa791c53-47f7-441c-be9f-a39cadbab27f",
   "metadata": {},
   "outputs": [],
   "source": []
  },
  {
   "cell_type": "code",
   "execution_count": null,
   "id": "b77c6f69-1ae3-42c6-9257-195a31dff04c",
   "metadata": {},
   "outputs": [],
   "source": []
  },
  {
   "cell_type": "code",
   "execution_count": null,
   "id": "162cba2a-383a-4caf-8b22-85cada27b65b",
   "metadata": {},
   "outputs": [],
   "source": []
  },
  {
   "cell_type": "code",
   "execution_count": null,
   "id": "8513d7bd-5f3f-4b77-b4d7-45974dd69604",
   "metadata": {},
   "outputs": [],
   "source": []
  },
  {
   "cell_type": "code",
   "execution_count": null,
   "id": "fe078fe7-dc85-4139-9658-d78f1ecb3151",
   "metadata": {},
   "outputs": [],
   "source": []
  }
 ],
 "metadata": {
  "kernelspec": {
   "display_name": "Python 3 (ipykernel)",
   "language": "python",
   "name": "python3"
  },
  "language_info": {
   "codemirror_mode": {
    "name": "ipython",
    "version": 3
   },
   "file_extension": ".py",
   "mimetype": "text/x-python",
   "name": "python",
   "nbconvert_exporter": "python",
   "pygments_lexer": "ipython3",
   "version": "3.11.7"
  }
 },
 "nbformat": 4,
 "nbformat_minor": 5
}
