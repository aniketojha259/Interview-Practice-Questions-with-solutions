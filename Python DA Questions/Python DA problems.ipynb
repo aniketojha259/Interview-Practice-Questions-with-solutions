{
 "cells": [
  {
   "cell_type": "markdown",
   "id": "0969b349-5cdf-4b23-883a-451b90901afd",
   "metadata": {},
   "source": [
    "### 1. Question: Write a function that takes a list of numbers and returns the sum."
   ]
  },
  {
   "cell_type": "code",
   "execution_count": 4,
   "id": "a31dad75-7f22-4b33-b6b7-54a9ea524cc6",
   "metadata": {},
   "outputs": [
    {
     "name": "stdout",
     "output_type": "stream",
     "text": [
      "150\n"
     ]
    }
   ],
   "source": [
    "def sumof(nums):\n",
    "    return sum(nums)\n",
    "\n",
    "nums = [10,20,30,40,50]\n",
    "print(sumof(nums))"
   ]
  },
  {
   "cell_type": "markdown",
   "id": "c5a23c14-4e86-4611-a8ad-2971ef7ad840",
   "metadata": {},
   "source": [
    "### 2. Question: How do you reverse a string in Python?"
   ]
  },
  {
   "cell_type": "code",
   "execution_count": 5,
   "id": "968fa23a-b318-4739-834f-6104e88e1f6c",
   "metadata": {},
   "outputs": [
    {
     "name": "stdin",
     "output_type": "stream",
     "text": [
      "ENter the letter:  Aniket\n"
     ]
    },
    {
     "name": "stdout",
     "output_type": "stream",
     "text": [
      "tekinA\n"
     ]
    }
   ],
   "source": [
    "def reverser(niii):\n",
    "    return niii[::-1]\n",
    "\n",
    "niii = input('ENter the letter: ')\n",
    "print(reverser(niii))"
   ]
  },
  {
   "cell_type": "markdown",
   "id": "22ef89d0-1423-4515-ab03-202a17ec7450",
   "metadata": {},
   "source": [
    "### 3. Question: What is the difference between a tuple and a list?"
   ]
  },
  {
   "cell_type": "code",
   "execution_count": 118,
   "id": "d7f0c980-d191-4ed0-85e9-7947c9e9a572",
   "metadata": {},
   "outputs": [],
   "source": [
    "\n",
    "# Tupple -> they are Immutable.\n",
    "#         It cannot be modified once created.\n",
    "#         Tuple are fast as comparision to list\n",
    "#         they can store different type of datas.\n",
    "\n",
    "# Listt -> The are mutable.\n",
    "#         The can be modified once created.\n",
    "#         List are slower as comparison to tuple.\n",
    "#         They also store different type of data's.\n",
    "# "
   ]
  },
  {
   "cell_type": "markdown",
   "id": "3f13637e-ac56-4c3b-a613-3c2fe36487e1",
   "metadata": {},
   "source": [
    "## Intermediate"
   ]
  },
  {
   "cell_type": "markdown",
   "id": "a843b0d7-baee-49e4-9349-16dafee5ae89",
   "metadata": {},
   "source": [
    "#### 4. Question: Write a function that checks if a given word is a palindrome."
   ]
  },
  {
   "cell_type": "code",
   "execution_count": 8,
   "id": "c099efc9-1ca0-45ef-aefb-e6cecdfb9521",
   "metadata": {},
   "outputs": [
    {
     "name": "stdin",
     "output_type": "stream",
     "text": [
      "enter the palindrome:  aabbaa\n"
     ]
    },
    {
     "name": "stdout",
     "output_type": "stream",
     "text": [
      "True\n"
     ]
    }
   ],
   "source": [
    "def palindrome(letter):\n",
    "    if letter == letter[::-1]:\n",
    "        return True\n",
    "    else: \n",
    "        return False\n",
    "\n",
    "letter = input('enter the palindrome: ')\n",
    "print(palindrome(letter))\n",
    "    "
   ]
  },
  {
   "cell_type": "markdown",
   "id": "d6534b24-7742-4bf3-9a2c-e344f9da9c98",
   "metadata": {},
   "source": [
    "#### 5. Question: How can you remove dublicates from a list?\n"
   ]
  },
  {
   "cell_type": "code",
   "execution_count": 13,
   "id": "9b535f75-c417-4dc8-86d9-ba8bb82b2cc6",
   "metadata": {},
   "outputs": [
    {
     "name": "stdout",
     "output_type": "stream",
     "text": [
      "['gaurav', 'stirnfss', 'aniket']\n"
     ]
    }
   ],
   "source": [
    "def remove_dublicates(lst):\n",
    "    return list(set(lst))\n",
    "\n",
    "lst = ['stirnfss', 'aniket', 'gaurav', 'aniket']\n",
    "print(remove_dublicates(lst))\n"
   ]
  },
  {
   "cell_type": "markdown",
   "id": "50bb7d55-9303-4eca-991a-a8ccd59cb2c6",
   "metadata": {},
   "source": [
    "#### 5. Question: How can you remove dublicates from a list? remains output in standard order"
   ]
  },
  {
   "cell_type": "code",
   "execution_count": 1,
   "id": "3f637b4f-4faa-444c-a90f-bf26b957ea2c",
   "metadata": {},
   "outputs": [
    {
     "name": "stdout",
     "output_type": "stream",
     "text": [
      "['stirnfss', 'aniket', 'gaurav']\n"
     ]
    }
   ],
   "source": [
    "def remove_duplicates(nums):\n",
    "    seen = set()\n",
    "    result = []\n",
    "    for num in nums:\n",
    "        if num not in seen:\n",
    "            result.append(num)\n",
    "            seen.add(num)\n",
    "    return result\n",
    "\n",
    "nums = ['stirnfss', 'aniket', 'gaurav', 'aniket']\n",
    "print(remove_duplicates(nums))\n"
   ]
  },
  {
   "cell_type": "markdown",
   "id": "e1fac726-f6c3-40c9-852f-281224e7b27a",
   "metadata": {},
   "source": [
    "#### 6. Question: How do you handle exceptions in Python?\")\r\n"
   ]
  },
  {
   "cell_type": "code",
   "execution_count": 24,
   "id": "ea43e462-f485-4bfa-a7af-bd98ad547b7c",
   "metadata": {},
   "outputs": [
    {
     "name": "stdout",
     "output_type": "stream",
     "text": [
      "Cannot divide by zero!\n"
     ]
    }
   ],
   "source": [
    "try:\n",
    "    x = 1 / 0\n",
    "except ZeroDivisionError:\n",
    "    print(\"Cannot divide by zero!\")\n"
   ]
  },
  {
   "cell_type": "markdown",
   "id": "978dde8e-f054-49ce-b4d3-c3cb66555eed",
   "metadata": {},
   "source": [
    "## Advanced"
   ]
  },
  {
   "cell_type": "markdown",
   "id": "354169c2-3f45-442f-84ce-369cbcda4171",
   "metadata": {},
   "source": [
    "#### 7. Question: What is a lambda function? Provide an example."
   ]
  },
  {
   "cell_type": "markdown",
   "id": "7db6c584-1855-42b5-ae0f-3e52d7612f36",
   "metadata": {},
   "source": [
    "##### Lambda function -> It is a small, anonymous function. It can take any number as argument but can only have one expression"
   ]
  },
  {
   "cell_type": "code",
   "execution_count": 27,
   "id": "1b299378-603a-4876-9ce6-4f5148540e0f",
   "metadata": {},
   "outputs": [
    {
     "name": "stdout",
     "output_type": "stream",
     "text": [
      "8\n"
     ]
    }
   ],
   "source": [
    "mul = lambda x,y: x*y\n",
    "print(mul(2,4))"
   ]
  },
  {
   "cell_type": "markdown",
   "id": "4019ff68-a0e2-4873-93da-ceb24adbf740",
   "metadata": {},
   "source": [
    "#### 8. Question: Write a function that returns the n-th Fibonacci number using recursion."
   ]
  },
  {
   "cell_type": "code",
   "execution_count": 75,
   "id": "4cf81c7d-2b61-4563-ac24-32d9e581fa10",
   "metadata": {},
   "outputs": [
    {
     "name": "stdout",
     "output_type": "stream",
     "text": [
      "55\n"
     ]
    }
   ],
   "source": [
    "def fib(n):\n",
    "    if n<=1:\n",
    "        return n\n",
    "    return fib(n-1)+fib(n-2)\n",
    "\n",
    "n = 10\n",
    "print(fib(n))"
   ]
  },
  {
   "cell_type": "markdown",
   "id": "04cd329c-a9ae-4c7a-ba3b-b57bfe18d74b",
   "metadata": {},
   "source": [
    "#### 9. Question: What are decorators in Python and how are they used?"
   ]
  },
  {
   "cell_type": "markdown",
   "id": "04aa87ff-4081-4590-888a-42af51f68edb",
   "metadata": {},
   "source": [
    "##### Decorator provide a way to modify or extend the behavior of collable objects (like functions and methods) without permanently modifying the collable itself."
   ]
  },
  {
   "cell_type": "markdown",
   "id": "8250a9af-f730-4669-9d72-51a211eda51c",
   "metadata": {},
   "source": [
    "### Intermediate\r\n",
    "10. Question: How do you deep copy an object in Python?"
   ]
  },
  {
   "cell_type": "code",
   "execution_count": 122,
   "id": "4f09a83d-8c3b-4485-95d0-5f783eed6959",
   "metadata": {},
   "outputs": [],
   "source": [
    "\n",
    "# We can use copy module and deepcopy method\n",
    "import copy\n",
    "org = [[1,3,4,5],[6,7,8,9]]\n",
    "coopy = copy.deepcopy(org)"
   ]
  },
  {
   "cell_type": "markdown",
   "id": "f1343c6f-7680-4b4f-9e74-b699de4f060c",
   "metadata": {},
   "source": [
    "#### 11. What is List comprehension?"
   ]
  },
  {
   "cell_type": "code",
   "execution_count": 38,
   "id": "cf52bfef-9069-4c91-a673-4e8fc39245d5",
   "metadata": {},
   "outputs": [
    {
     "data": {
      "text/plain": [
       "[0, 1, 4, 9, 16, 25, 36, 49, 64, 81]"
      ]
     },
     "execution_count": 38,
     "metadata": {},
     "output_type": "execute_result"
    }
   ],
   "source": [
    "squared_numbers = [x**2 for x in range(10)]\n",
    "squared_numbers"
   ]
  },
  {
   "cell_type": "markdown",
   "id": "33250c8c-7786-4926-9d7d-585d2817df32",
   "metadata": {},
   "source": [
    "### Advanced\r\n",
    "13. Question: Explain the concept of *args and **kwargs in Python."
   ]
  },
  {
   "cell_type": "code",
   "execution_count": null,
   "id": "65fcfab0-d495-49cf-a5e8-252c70897345",
   "metadata": {},
   "outputs": [],
   "source": []
  },
  {
   "cell_type": "markdown",
   "id": "8b6c1b56-de3b-46ce-8c75-2c5bf29f2668",
   "metadata": {},
   "source": [
    "### Linked List Cycle Detection\n",
    "##### \n",
    "Question: Detect if there is a cycle in a linked list."
   ]
  },
  {
   "cell_type": "code",
   "execution_count": 45,
   "id": "868e2052-6552-4e06-b8cd-1c1ca304e02f",
   "metadata": {},
   "outputs": [
    {
     "name": "stdout",
     "output_type": "stream",
     "text": [
      "True\n"
     ]
    }
   ],
   "source": [
    "class Node:\n",
    "    def __init__(self, value=0, next=None):\n",
    "        self.value = value\n",
    "        self.next = next\n",
    "\n",
    "    @staticmethod\n",
    "    def list_has_cycle(head):\n",
    "        slow = fast = head\n",
    "        while fast and fast.next:\n",
    "            slow = slow.next\n",
    "            fast = fast.next.next\n",
    "            if slow == fast:\n",
    "                return True\n",
    "        return False\n",
    "\n",
    "# Example usage:\n",
    "head = Node(1)\n",
    "second = Node(2)\n",
    "third = Node(3)\n",
    "\n",
    "head.next = second\n",
    "second.next = third\n",
    "third.next = head  # Creates a cycle\n",
    "\n",
    "print(Node.list_has_cycle(head))  # Output: True\n"
   ]
  },
  {
   "cell_type": "markdown",
   "id": "21d624e9-86fe-452a-839b-907c30753de8",
   "metadata": {},
   "source": [
    "### 6. Merge Two Sorted Lists\r\n",
    "Question: Merge two sorted linked lists."
   ]
  },
  {
   "cell_type": "code",
   "execution_count": 2,
   "id": "a0460cb5-2928-43e9-a720-3256322a2432",
   "metadata": {},
   "outputs": [
    {
     "name": "stdout",
     "output_type": "stream",
     "text": [
      "1 -> 2 -> 3 -> 4 -> 5 -> 6 -> 7 -> 8 -> "
     ]
    }
   ],
   "source": [
    "class ListNode:\n",
    "    def __init__(self, value=0, next=None):\n",
    "        self.value = value\n",
    "        self.next = next\n",
    "\n",
    "    @staticmethod\n",
    "    def merging(l1, l2):\n",
    "        dummy = ListNode()\n",
    "        tail = dummy\n",
    "        while l1 and l2:\n",
    "            if l1.value < l2.value:\n",
    "                tail.next = l1\n",
    "                l1 = l1.next\n",
    "            else:\n",
    "                tail.next = l2\n",
    "                l2 = l2.next\n",
    "            tail = tail.next\n",
    "        \n",
    "        if l1:\n",
    "            tail.next = l1\n",
    "        elif l2:\n",
    "            tail.next = l2\n",
    "        \n",
    "        return dummy.next\n",
    "\n",
    "# Creating two sorted linked lists\n",
    "l1 = ListNode(1, ListNode(2, ListNode(3, ListNode(4))))\n",
    "l2 = ListNode(5, ListNode(6, ListNode(7, ListNode(8))))\n",
    "\n",
    "# Merging the lists\n",
    "merged_head = ListNode.merging(l1, l2)\n",
    "\n",
    "# Printing the merged list\n",
    "current = merged_head\n",
    "while current:\n",
    "    print(current.value, end=' -> ')\n",
    "    current = current.next\n"
   ]
  },
  {
   "cell_type": "markdown",
   "id": "38de7de5-5053-47f9-8f2f-ad7c9ef2ec69",
   "metadata": {},
   "source": [
    "### 7. Question: Find the middle element of a linked list."
   ]
  },
  {
   "cell_type": "code",
   "execution_count": 2,
   "id": "4c27702a-b6ec-4b52-a14d-c0aecb774703",
   "metadata": {},
   "outputs": [
    {
     "name": "stdout",
     "output_type": "stream",
     "text": [
      "6\n"
     ]
    }
   ],
   "source": [
    "class Node:\n",
    "    def __init__(self, value, next = None):\n",
    "        self.value = value\n",
    "        self.next = next\n",
    "    def middle_element(head):\n",
    "        if not head:\n",
    "            return None\n",
    "        slow = fast = head\n",
    "        while fast and fast.next:\n",
    "            slow = slow.next\n",
    "            fast = fast.next.next\n",
    "        return slow.value\n",
    "\n",
    "head = Node(2,Node(4,Node(6,Node(8,Node(10)))))\n",
    "print(Node.middle_element(head))     \n",
    "        "
   ]
  },
  {
   "cell_type": "markdown",
   "id": "65cde2cd-751b-4dd6-95c9-f32cab8854ca",
   "metadata": {},
   "source": [
    "### 8.  Binary Search \r\n",
    "Question: Implement binary search for a sorted list."
   ]
  },
  {
   "cell_type": "code",
   "execution_count": 9,
   "id": "ff5dfa6d-2836-42d3-97a4-cbff300c4f99",
   "metadata": {},
   "outputs": [
    {
     "name": "stdout",
     "output_type": "stream",
     "text": [
      "4\n"
     ]
    }
   ],
   "source": [
    "def binary_search(nums, target):\n",
    "    l = 0\n",
    "    r = len(nums)-1\n",
    "    while l<=r:\n",
    "        m = (l+r)//2\n",
    "        if(nums[m]==target):\n",
    "            return m\n",
    "        elif nums[m]<=target:\n",
    "            l = m + 1\n",
    "        else:\n",
    "            r = m-1\n",
    "    return m\n",
    "nums = [2,4,6,8,10,12]\n",
    "target = 10\n",
    "print(binary_search(nums, target))\n",
    "        "
   ]
  },
  {
   "cell_type": "code",
   "execution_count": null,
   "id": "db10016c-68bd-4ba5-9f09-d306689a6f62",
   "metadata": {},
   "outputs": [],
   "source": []
  },
  {
   "cell_type": "markdown",
   "id": "1fbf230d-8dd3-4c70-ad53-8e1c096dd1b9",
   "metadata": {},
   "source": [
    "### 9. Find First and Last Position of Element in Sorted Array\r",
    "\r\n",
    "Question: Given a sorted array of integers and a target value, find the starting and ending position of the target value using binary search."
   ]
  },
  {
   "cell_type": "code",
   "execution_count": 13,
   "id": "e99f5f23-7dd3-4495-b450-d48614b65c81",
   "metadata": {},
   "outputs": [
    {
     "name": "stdout",
     "output_type": "stream",
     "text": [
      "[4, 4]\n"
     ]
    }
   ],
   "source": [
    "def find_left_boundary(nums, target):\n",
    "    L, R = 0, len(nums) - 1\n",
    "    while L < R:\n",
    "        mid = (L + R) // 2\n",
    "        if nums[mid] < target:\n",
    "            L = mid + 1\n",
    "        else:\n",
    "            R = mid\n",
    "    return L\n",
    "\n",
    "def find_right_boundary(nums, target):\n",
    "    L, R = 0, len(nums) - 1\n",
    "    while L < R:\n",
    "        mid = (L + R) // 2 + 1  # Move the mid towards the right to find the upper boundary\n",
    "        if nums[mid] > target:\n",
    "            R = mid - 1\n",
    "        else:\n",
    "            L = mid\n",
    "    return L\n",
    "\n",
    "def find_range(nums, target):\n",
    "    L = find_left_boundary(nums, target)\n",
    "    R = find_right_boundary(nums, target)\n",
    "    if nums[L] == target:\n",
    "        return [L, R]\n",
    "    return [-1, -1]\n",
    "\n",
    "nums = [2, 4, 6, 8, 10, 12]\n",
    "target = 10\n",
    "print(find_range(nums, target))  # Output should be [4, 4]\n"
   ]
  },
  {
   "cell_type": "markdown",
   "id": "3b201cf6-a461-4747-b335-8032bf6cae1f",
   "metadata": {},
   "source": [
    "### 10. Find out common letters between two strings Using Python.\n",
    "example: 1. NAINA, 2. REENE"
   ]
  },
  {
   "cell_type": "code",
   "execution_count": 17,
   "id": "e92f494d-0a9a-4b6d-9263-922fdebc363c",
   "metadata": {},
   "outputs": [
    {
     "name": "stdout",
     "output_type": "stream",
     "text": [
      "{'N'}\n",
      "None\n"
     ]
    }
   ],
   "source": [
    "def common_letter(num1, num2):\n",
    "    a = set(num1)\n",
    "    b = set(num2)\n",
    "    x = a & b\n",
    "    print(x)\n",
    "\n",
    "num1 = 'REENE'\n",
    "num2  = 'NAINA'\n",
    "print(common_letter(num1, num2))\n",
    "            "
   ]
  },
  {
   "cell_type": "markdown",
   "id": "8f08239f-ae01-450d-9bb0-27d7bb78a3ea",
   "metadata": {},
   "source": [
    "### 11. Write a program to count the frequency of words appearing in a string.\n",
    "Example: Sheena Loves eating apple and mango. Her sister also loves eating apple and mango."
   ]
  },
  {
   "cell_type": "code",
   "execution_count": 127,
   "id": "51a45986-8695-4c06-af21-30d751bd03c0",
   "metadata": {},
   "outputs": [
    {
     "name": "stdout",
     "output_type": "stream",
     "text": [
      "{'My': 1, 'name': 1, 'is': 1, 'aniket': 2, 'from': 2, 'ballia': 2, 'ojha': 1}\n",
      "None\n"
     ]
    }
   ],
   "source": [
    "def frquency_words(nums):\n",
    "    x = nums.split()\n",
    "    d = {}\n",
    "    for i in x:\n",
    "        if i not in d.keys():\n",
    "            d[i]=0\n",
    "        d[i] = d[i]+1\n",
    "    print(d)\n",
    "nums = 'My name is aniket from ballia aniket ojha ballia from'\n",
    "print(frquency_words(nums))      \n",
    "            "
   ]
  },
  {
   "cell_type": "markdown",
   "id": "3fe93f61-cd2d-4a2a-8b04-bba60c112dd6",
   "metadata": {},
   "source": [
    "### 12. Write a Python Program to convert two lists into a dictionary.\n",
    "example: list1 = [Naina, Kimi, Sheena]\n",
    "         list2 = [852345, 763567, 691276]\n",
    "\n",
    "         "
   ]
  },
  {
   "cell_type": "code",
   "execution_count": 64,
   "id": "a48464df-e5f9-4e4e-a32d-2816e5c73c3d",
   "metadata": {},
   "outputs": [
    {
     "name": "stdout",
     "output_type": "stream",
     "text": [
      "{'Naina': 852345, 'Kimi': 763567, 'Sheena': 691276}\n",
      "None\n"
     ]
    }
   ],
   "source": [
    "def converting(list1, list2):\n",
    "    x = dict(zip(list1, list2))\n",
    "    print(x)\n",
    "list1 = ['Naina', 'Kimi', 'Sheena']\n",
    "list2 = [852345, 763567, 691276]\n",
    "print(converting(list1, list2))\n",
    "    "
   ]
  },
  {
   "cell_type": "markdown",
   "id": "d89f9d59-1b4f-40e6-9b68-d5ba0b4541b5",
   "metadata": {},
   "source": [
    "### 13. find missing number in an array ( using summation and XOR operation)"
   ]
  },
  {
   "cell_type": "code",
   "execution_count": 73,
   "id": "9909db67-0d5e-4892-a8fb-2411e27282a0",
   "metadata": {},
   "outputs": [
    {
     "name": "stdout",
     "output_type": "stream",
     "text": [
      "5\n",
      "None\n"
     ]
    }
   ],
   "source": [
    "def missing_number(a):\n",
    "    n = a[-1]\n",
    "    x = n*(n+1)//2\n",
    "    total = sum(a)\n",
    "    print(x-total)\n",
    "a = [1,2,3,4,6,7]\n",
    "print(missing_number(a))"
   ]
  },
  {
   "cell_type": "markdown",
   "id": "8643917d-5417-4215-9286-61da8eace25c",
   "metadata": {},
   "source": [
    "### 14. Find out pairs with given sum value of an array\n",
    "arr = [5,7,4,3,9,8,19,21]\n",
    "sum = 17"
   ]
  },
  {
   "cell_type": "code",
   "execution_count": 2,
   "id": "614a3e31-bd73-4534-a871-03148d27e446",
   "metadata": {},
   "outputs": [
    {
     "name": "stdout",
     "output_type": "stream",
     "text": [
      "(2, 4)\n"
     ]
    }
   ],
   "source": [
    "def two_sum(arr, target):\n",
    "    arr.sort()\n",
    "    l = 0\n",
    "    r = len(arr)-1\n",
    "    while l<=r:\n",
    "        if arr[l]+arr[r] == target:\n",
    "            return arr[l], arr[r]\n",
    "            l +=1\n",
    "            r-=1\n",
    "        elif arr[l]+arr[r]< target:\n",
    "            l = l+1\n",
    "        elif arr[l]+arr[r] > target:\n",
    "            r = r-1\n",
    "    \n",
    "arr = [3,2,4]\n",
    "target = 6\n",
    "print(two_sum(arr, target))"
   ]
  },
  {
   "cell_type": "markdown",
   "id": "3edbf52b-7c10-4f73-b163-10caf66e606f",
   "metadata": {},
   "source": [
    "### Find minimum difference between two element of an array\n",
    "arr = [5,32,45,3,12,18,25]"
   ]
  },
  {
   "cell_type": "code",
   "execution_count": 94,
   "id": "ccca9873-b77b-44ed-9ac3-dd3c90c840d5",
   "metadata": {},
   "outputs": [
    {
     "name": "stdout",
     "output_type": "stream",
     "text": [
      "2\n"
     ]
    }
   ],
   "source": [
    "def minimum_dif(arr):\n",
    "    arr = sorted(arr)\n",
    "    size = len(arr)-1\n",
    "    differ = 9999*999\n",
    "    for i in range(size-1):\n",
    "        if(arr[i+1]-arr[i] < differ):\n",
    "            differ =arr[i+1]-arr[i]\n",
    "        return differ\n",
    "arr = [5,32,45,3,12,18,25]\n",
    "print(minimum_dif(arr))"
   ]
  },
  {
   "cell_type": "markdown",
   "id": "350148c2-ee3c-4d47-87ed-f59fe573b53c",
   "metadata": {},
   "source": [
    "### Find Maxi different between two elements of array:\n",
    "arr = [5,32,45,3,12,18,25]"
   ]
  },
  {
   "cell_type": "code",
   "execution_count": 139,
   "id": "c892193d-abf6-4e58-b517-38dc3fad92bc",
   "metadata": {},
   "outputs": [
    {
     "name": "stdout",
     "output_type": "stream",
     "text": [
      "3\n"
     ]
    }
   ],
   "source": [
    "\n",
    "\n",
    "# # 2, 5, 12, 18, 25, 32, 45\n",
    "# def max_sorted(arr):\n",
    "#     arr = sorted(arr)\n",
    "#     size = len(arr)\n",
    "#     differ = 0\n",
    "#     for i in range(size-1):\n",
    "#         if arr[i+1] - arr[i] > differ:\n",
    "#             differ = arr[i+1] - arr[i]\n",
    "#     return differ\n",
    "\n",
    "# arr = [4,-3,-2,2,3,1,-2,-3,6,-6,-4,2,1]   \n",
    "# print(max_sorted(arr))\n",
    "\n",
    "def maximm_dif(arr):\n",
    "    arr = sorted(arr)\n",
    "    size = len(arr)\n",
    "    differ = 0\n",
    "    for i in range(size-1):\n",
    "        if(arr[i+1]-arr[i] > differ):\n",
    "            differ = arr[i+1]-arr[i]\n",
    "    return differ\n",
    "        \n",
    "arr = [4,-3,-2,2,3,1,-2,-3,6,-6,-4,2,1]   \n",
    "print(maximm_dif(arr))\n",
    "  "
   ]
  },
  {
   "cell_type": "markdown",
   "id": "a1f54708-4f78-47a4-9a6c-940cfea234af",
   "metadata": {},
   "source": [
    "### Length of Last word\n",
    "\n",
    "example -> Hello Aniket\n",
    "output -> 6\n"
   ]
  },
  {
   "cell_type": "code",
   "execution_count": 137,
   "id": "72a2802d-7026-4012-969f-9829830d8070",
   "metadata": {},
   "outputs": [
    {
     "name": "stdout",
     "output_type": "stream",
     "text": [
      "6\n"
     ]
    }
   ],
   "source": [
    "def last_words(arr):\n",
    "    x = arr.split()\n",
    "    return len(x[-1])\n",
    "arr = 'Hello Aniket'\n",
    "print(last_words(arr))\n"
   ]
  },
  {
   "cell_type": "markdown",
   "id": "5f59eb6c-8ee2-405c-98a8-6acdea0bf68b",
   "metadata": {},
   "source": [
    "### Problem of ANAGRAM:"
   ]
  },
  {
   "cell_type": "code",
   "execution_count": 145,
   "id": "c9b1dbf5-888b-42f9-89ec-c9cc8c1d2156",
   "metadata": {},
   "outputs": [
    {
     "name": "stdout",
     "output_type": "stream",
     "text": [
      "{'a c r': 2, 'a j r': 2, 'a a j s': 2}\n"
     ]
    }
   ],
   "source": [
    "def anagram(arr):\n",
    "    if arr == None:\n",
    "        return {}\n",
    "    d = {}\n",
    "    for i in range(len(arr)):\n",
    "        word = ' '.join(sorted(arr[i]))\n",
    "        if word not in d.keys():\n",
    "            d[word]  = 0\n",
    "        d[word] = d[word]+1\n",
    "    return d\n",
    "\n",
    "arr = ['car', 'rac', 'jar', 'raj', 'saaj', 'jaas']\n",
    "print(anagram(arr))\n",
    "    "
   ]
  },
  {
   "cell_type": "markdown",
   "id": "2f513a90-19cc-43a9-98dc-66c8a8118e0b",
   "metadata": {},
   "source": [
    "### Find the largest element in an array"
   ]
  },
  {
   "cell_type": "code",
   "execution_count": 149,
   "id": "6ce9e5dd-fcf6-4e9d-bfe7-47a81495fd15",
   "metadata": {},
   "outputs": [
    {
     "name": "stdout",
     "output_type": "stream",
     "text": [
      "21\n",
      "8\n"
     ]
    }
   ],
   "source": [
    "def maximum(arr):\n",
    "    arr.sort()\n",
    "    return arr[-1]\n",
    "def minimum(arr):\n",
    "    arr.sort()\n",
    "    return arr[0]\n",
    "arr = [10,9,8,19,21]\n",
    "print(maximum(arr))\n",
    "print(minimum(arr))"
   ]
  },
  {
   "cell_type": "markdown",
   "id": "9a774569-2261-49f7-b8ae-266b000cb8c3",
   "metadata": {},
   "source": [
    "### Python – Records with Value at K index\n",
    "### Print all the tuples of elements for a particular value at a particular Kth position of tuple.\n",
    "Print all the tuples of elements for a particular value at a particular Kth position of tuple.\r\n",
    "\r\n",
    "Example 1\r\n",
    "Input\r\n",
    "\r\n",
    "test_list = [(3, 1, 5), (1, 3, 6), (2, 5, 7), (5, 2, 8), (6, 3, 0)]\r\n",
    "ele = 3\r\n",
    "\n",
    "K = 1 :Output\r\n",
    "\r\n",
    "[(1, 3, 6), (6, 3, 0)]"
   ]
  },
  {
   "cell_type": "code",
   "execution_count": null,
   "id": "72fbb70a-4578-44f2-bc78-a5632ff75aa9",
   "metadata": {},
   "outputs": [],
   "source": [
    "def values(arr, ele, k):\n",
    "    for i in arr:\n",
    "        if arr[i]\n",
    "    "
   ]
  },
  {
   "cell_type": "markdown",
   "id": "71cf7e50-c5a4-4410-ab68-47512be362cd",
   "metadata": {},
   "source": [
    "### FIRST NON-REPEATING CHARACTER IN A STRING (LeetCode)\n",
    "NETSETOSNET\n",
    "N -> 2\n",
    "E-> 3\n",
    "T -> 3\n",
    "S -> 2\n",
    "O ->1"
   ]
  },
  {
   "cell_type": "code",
   "execution_count": 161,
   "id": "d06e8898-3be7-461e-af39-eb92385908e8",
   "metadata": {},
   "outputs": [
    {
     "name": "stdout",
     "output_type": "stream",
     "text": [
      "O\n",
      "None\n"
     ]
    }
   ],
   "source": [
    "def non_repeating(arr):\n",
    "    d ={}\n",
    "    size  = len(arr)\n",
    "    for i in range(size):\n",
    "        key = arr[i]\n",
    "        if key not in d.keys():\n",
    "            d[key] = 0\n",
    "        d[key]= d[key] +1\n",
    "    for key, value in d.items():\n",
    "        if value == 1:\n",
    "            print(key)\n",
    "            break\n",
    "arr = 'NETSETOSNET'\n",
    "print(non_repeating(arr))"
   ]
  },
  {
   "cell_type": "markdown",
   "id": "78747920-7041-4d60-9a73-e5834d00825b",
   "metadata": {},
   "source": [
    "### Fibonannci Series using Genrator:\n",
    "Generator: These are the function which are return the iterable set of items"
   ]
  },
  {
   "cell_type": "code",
   "execution_count": 168,
   "id": "16488744-ecc7-4c2f-82b9-7e38c9fd1d30",
   "metadata": {},
   "outputs": [
    {
     "name": "stdout",
     "output_type": "stream",
     "text": [
      "0 1 1 2 3 5 8 13 21 34 55 89 144 233 377 610 987 1597 2584 4181 "
     ]
    }
   ],
   "source": [
    "def fib_gen():\n",
    "    a = 0\n",
    "    b = 1\n",
    "    while True:\n",
    "        c = a\n",
    "        a = b\n",
    "        b = c+a\n",
    "        yield c\n",
    "f = fib_gen()\n",
    "for i in range(20):\n",
    "    print(next(f),end = ' ')\n",
    "    \n",
    "# print(next(f))\n",
    "# print(next(f))\n",
    "# print(next(f))\n",
    "# print(next(f))"
   ]
  },
  {
   "cell_type": "markdown",
   "id": "d71a4228-332e-4d44-845e-414b071f48a5",
   "metadata": {},
   "source": [
    "### What is Update Function in Python"
   ]
  },
  {
   "cell_type": "code",
   "execution_count": 12,
   "id": "169a38a5-af59-4a1a-89b5-ebc98d273bac",
   "metadata": {},
   "outputs": [
    {
     "name": "stdout",
     "output_type": "stream",
     "text": [
      "{1: 'one', 2: 'two', 3: 'Three', 4: 'FOur'}\n",
      "{1: 'one', 2: 'two', 3: 'Three', 4: 'FOur', 5: 'Five'}\n"
     ]
    }
   ],
   "source": [
    "d1 = {\n",
    "    1: 'one', \n",
    "    2: 'two',\n",
    "    3: 'Three'}\n",
    "l1 = [4, 'FOur']  ## adding list\n",
    "d1.update([l1])\n",
    "print(d1)\n",
    "l2 = (5, 'Five')  # Tuple with key-value pair\n",
    "d1.update([l2])  # Convert tuple to list of tuples\n",
    "print(d1)\n"
   ]
  },
  {
   "cell_type": "code",
   "execution_count": 21,
   "id": "98c4d944-2efa-409c-baf0-603633377a8c",
   "metadata": {},
   "outputs": [
    {
     "name": "stdout",
     "output_type": "stream",
     "text": [
      "Common elements in both list is:, 80 , 2\n",
      "None\n"
     ]
    }
   ],
   "source": [
    "# def common_element(arr1, arr2):\n",
    "#     a = set(arr1)\n",
    "#     b = set(arr2)\n",
    "#     return a & b\n",
    "# arr1 = [40,50,60,80]\n",
    "# arr2 = [50,80,100,150]\n",
    "# print(common_element(arr1, arr2))\n",
    "\n",
    "\n",
    "def common_element(arr1, arr2):\n",
    "    common = []\n",
    "    count = 0\n",
    "    for i in arr1:\n",
    "        for j in arr2:\n",
    "            if (i==j):\n",
    "                common.append(i)\n",
    "                count = count+1\n",
    "    print('Common elements in both list is:,', i, ',',count)\n",
    "\n",
    "arr1 = [40,50,60,80]\n",
    "arr2 = [50,80,100,150]\n",
    "print(common_element(arr1, arr2))"
   ]
  },
  {
   "cell_type": "markdown",
   "id": "74c41f19-94ea-4afd-b068-9b698d59b12b",
   "metadata": {},
   "source": [
    "### Python Tuples Questions"
   ]
  },
  {
   "cell_type": "code",
   "execution_count": 22,
   "id": "694fa48a-5d5f-4719-82ba-40cf5e0e101d",
   "metadata": {},
   "outputs": [
    {
     "name": "stdout",
     "output_type": "stream",
     "text": [
      "()\n"
     ]
    }
   ],
   "source": [
    "mytuple = ()\n",
    "print(mytuple)"
   ]
  },
  {
   "cell_type": "code",
   "execution_count": 23,
   "id": "9d091754-c6f4-41e6-aba6-438a42b465ee",
   "metadata": {},
   "outputs": [
    {
     "name": "stdout",
     "output_type": "stream",
     "text": [
      "('ronaldo', 'messi', 'neymar', 'mardona')\n"
     ]
    }
   ],
   "source": [
    "# How I can access value in tuple\n",
    "mytuple = ('ronaldo', 'messi', 'neymar','mardona')\n",
    "print(mytuple)"
   ]
  },
  {
   "cell_type": "code",
   "execution_count": 26,
   "id": "3c97a0cc-d6f5-4c45-aaba-d28c069d49bb",
   "metadata": {},
   "outputs": [
    {
     "name": "stdout",
     "output_type": "stream",
     "text": [
      "('ronaldo', 'messi')\n"
     ]
    }
   ],
   "source": [
    "print(mytuple[0:2])"
   ]
  },
  {
   "cell_type": "markdown",
   "id": "3aa6db78-9adb-4231-b95f-09b7ca7bb32b",
   "metadata": {},
   "source": [
    "#### Check existene of an item in a Python Tuple"
   ]
  },
  {
   "cell_type": "code",
   "execution_count": 35,
   "id": "abb971c1-dd72-472f-8519-9b7887375654",
   "metadata": {},
   "outputs": [
    {
     "name": "stdout",
     "output_type": "stream",
     "text": [
      "True\n"
     ]
    }
   ],
   "source": [
    "def mylo(mytuple, my):\n",
    "    for i in mytuple:\n",
    "        if i == my:\n",
    "            return True\n",
    "    return False\n",
    "\n",
    "mytuple = ('eddie', 'anthany', 'aran', 'Blake')\n",
    "my = 'eddie'\n",
    "print(mylo(mytuple, my))\n"
   ]
  },
  {
   "cell_type": "code",
   "execution_count": 38,
   "id": "675783e1-6cc7-4398-8647-703f18c1a37c",
   "metadata": {},
   "outputs": [
    {
     "name": "stdout",
     "output_type": "stream",
     "text": [
      "('ronaldo', 'messi', 'neymar', 'mardona')\n",
      "('messi', 'neymar', 'mardona')\n"
     ]
    }
   ],
   "source": [
    "# SLicing In Tuples\n",
    "\n",
    "myTuple = ('ronaldo','messi','neymar','mardona')\n",
    "print(myTuple)\n",
    "\n",
    "print(myTuple[1:])"
   ]
  },
  {
   "cell_type": "code",
   "execution_count": 39,
   "id": "12aec13d-c6df-43a5-8112-e61d68fdfe8d",
   "metadata": {},
   "outputs": [
    {
     "name": "stdout",
     "output_type": "stream",
     "text": [
      "('mardona', 'neymar', 'messi', 'ronaldo')\n"
     ]
    }
   ],
   "source": [
    "print(myTuple[::-1])"
   ]
  },
  {
   "cell_type": "code",
   "execution_count": 42,
   "id": "1c2f2575-9f02-4d13-b910-cc90e3f8a700",
   "metadata": {},
   "outputs": [
    {
     "name": "stdout",
     "output_type": "stream",
     "text": [
      "('messi', 'neymar', 'mardona')\n"
     ]
    }
   ],
   "source": [
    "print(myTuple[1:4])"
   ]
  },
  {
   "cell_type": "code",
   "execution_count": 47,
   "id": "e2375063-6656-4590-9553-432d07daddb7",
   "metadata": {},
   "outputs": [
    {
     "name": "stdout",
     "output_type": "stream",
     "text": [
      "('Amit', 'anurag', 'ravi', 'Rohan')\n",
      "('Rohan', 'ravi')\n"
     ]
    }
   ],
   "source": [
    "## Range of Indexes in Python(-ve)\n",
    "\n",
    "mytuples = ('Amit','anurag','ravi','Rohan')\n",
    "print(mytuples)\n",
    "print(mytuples[:-3:-1])"
   ]
  },
  {
   "cell_type": "code",
   "execution_count": 57,
   "id": "445da9c7-dd46-49e9-8f49-621f52ee1ffa",
   "metadata": {},
   "outputs": [
    {
     "data": {
      "text/plain": [
       "('Amit', 'anurag', 'ravi', 'Rohan')"
      ]
     },
     "execution_count": 57,
     "metadata": {},
     "output_type": "execute_result"
    }
   ],
   "source": [
    "### How can we update tuple values\n",
    "mytuples1 = ('Amit','anurag','ravi','Rohan')\n",
    "mylist = list(mytuples1)\n",
    "mylist[0]  = 'Jamaica'\n",
    "mylist"
   ]
  },
  {
   "cell_type": "code",
   "execution_count": 61,
   "id": "8ffecb13-98e2-4860-b8d0-d9f080f8d844",
   "metadata": {},
   "outputs": [
    {
     "name": "stdout",
     "output_type": "stream",
     "text": [
      "('Amit', 'anurag', 'ravi', 'Rohan', 10, 20, 40, 50)\n"
     ]
    }
   ],
   "source": [
    "### How to concatenate two tuples:\n",
    "mytuples1 = ('Amit','anurag','ravi','Rohan')\n",
    "mytuples2 = (10,20,40,50)\n",
    "print(mytuples1+mytuples2)"
   ]
  },
  {
   "cell_type": "code",
   "execution_count": 64,
   "id": "45078674-6c24-48df-bb1d-eb76f7c9edc3",
   "metadata": {},
   "outputs": [
    {
     "name": "stdout",
     "output_type": "stream",
     "text": [
      "50\n",
      "10\n"
     ]
    }
   ],
   "source": [
    "## to get the max value from tuples\n",
    "mytuples2 = (10,20,40,50)\n",
    "print(max(mytuples2)) ## for max\n",
    "print(min(mytuples2)) # for min"
   ]
  },
  {
   "cell_type": "code",
   "execution_count": 70,
   "id": "f2486dab-f709-4d90-91ae-c73fe1d9668c",
   "metadata": {},
   "outputs": [
    {
     "name": "stdout",
     "output_type": "stream",
     "text": [
      "['Amit', 'anurag', 'ravi', 'Rohan']\n"
     ]
    }
   ],
   "source": [
    "## convert list into tuple\n",
    "mylist1 = ['Amit','anurag','ravi','Rohan']\n",
    "x = list(mylist1)\n",
    "print(x)"
   ]
  },
  {
   "cell_type": "markdown",
   "id": "8704dbf2-8355-4954-82e4-ccadfa13d015",
   "metadata": {},
   "source": [
    "### Find out the pair of 3 Sums:\n",
    "\n",
    "Given an integer array nums, return all the triplets [nums[i], nums[j], nums[k]] such that i != j, i != k, and j != k, and nums[i] + nums[j] + nums[k] == 0.\r\n",
    "\r\n",
    "Notice that the solution set must not contain duplicate triplets.\r\n",
    "\r\n",
    " \r\n",
    "\r\n",
    "Example 1:\r\n",
    "\r\n",
    "Input: nums = [-1,0,1,2,-1,-4]\r\n",
    "Output: [[-1,-1,2],[-1,0,1]]"
   ]
  },
  {
   "cell_type": "code",
   "execution_count": 9,
   "id": "35ef19f0-f8ec-4c7a-b685-12b5c36e4812",
   "metadata": {},
   "outputs": [
    {
     "name": "stdout",
     "output_type": "stream",
     "text": [
      "[[-1, -1, 2], [-1, 0, 1]]\n"
     ]
    }
   ],
   "source": [
    "def ThreeSum(nums):\n",
    "    res = []\n",
    "    nums.sort()\n",
    "    length = len(nums)\n",
    "    \n",
    "    for i in range(length-2):\n",
    "        if i > 0 and nums[i] == nums[i-1]:\n",
    "            continue\n",
    "        l = i + 1\n",
    "        r = length - 1\n",
    "        while l < r:\n",
    "            total = nums[i] + nums[l] + nums[r]\n",
    "            if total < 0:    # Target value is 0\n",
    "                l += 1\n",
    "            elif total > 0:\n",
    "                r -= 1\n",
    "            else:\n",
    "                res.append([nums[i], nums[l], nums[r]])\n",
    "                while l < r and nums[l] == nums[l+1]:\n",
    "                    l += 1\n",
    "                while l < r and nums[r] == nums[r-1]:\n",
    "                    r -= 1\n",
    "                l += 1\n",
    "                r -= 1\n",
    "    return res\n",
    "\n",
    "nums = [-1, 0, 1, 2, -1, -4]\n",
    "print(ThreeSum(nums))\n"
   ]
  },
  {
   "cell_type": "code",
   "execution_count": 4,
   "id": "5b6601fc-c16d-4a0a-8f1f-4fcd48c91c94",
   "metadata": {},
   "outputs": [
    {
     "data": {
      "text/plain": [
       "(0, 2)"
      ]
     },
     "execution_count": 4,
     "metadata": {},
     "output_type": "execute_result"
    }
   ],
   "source": [
    "def twosums(nums, target):\n",
    "    nums.sort()\n",
    "    l = 0\n",
    "    r = len(nums)-1\n",
    "    while (l<=r):\n",
    "        if nums[l] + nums[r] == target:\n",
    "            return l,r\n",
    "            l = l+1\n",
    "            r = r-1\n",
    "        elif nums[l] + nums[r] < target:\n",
    "            l = l+1\n",
    "        elif nums[l] + nums[r] > target:\n",
    "            r = r-1\n",
    "\n",
    "nums = [3,2,4]\n",
    "target = 6\n",
    "twosums(nums, target)"
   ]
  },
  {
   "cell_type": "code",
   "execution_count": null,
   "id": "fd7c484a-37cb-4c58-8f9d-956d70ac1958",
   "metadata": {},
   "outputs": [],
   "source": []
  },
  {
   "cell_type": "code",
   "execution_count": null,
   "id": "152e47c5-91b4-4da5-955b-dfcd8b17082a",
   "metadata": {},
   "outputs": [],
   "source": []
  },
  {
   "cell_type": "code",
   "execution_count": null,
   "id": "4f1894f8-118c-4a0a-a971-397878bcbd36",
   "metadata": {},
   "outputs": [],
   "source": []
  },
  {
   "cell_type": "code",
   "execution_count": null,
   "id": "a709548b-ed86-488d-924b-afe53bde6a21",
   "metadata": {},
   "outputs": [],
   "source": []
  }
 ],
 "metadata": {
  "kernelspec": {
   "display_name": "Python 3 (ipykernel)",
   "language": "python",
   "name": "python3"
  },
  "language_info": {
   "codemirror_mode": {
    "name": "ipython",
    "version": 3
   },
   "file_extension": ".py",
   "mimetype": "text/x-python",
   "name": "python",
   "nbconvert_exporter": "python",
   "pygments_lexer": "ipython3",
   "version": "3.11.7"
  }
 },
 "nbformat": 4,
 "nbformat_minor": 5
}
